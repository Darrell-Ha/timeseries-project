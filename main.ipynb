{
 "cells": [
  {
   "cell_type": "code",
   "execution_count": 1,
   "metadata": {},
   "outputs": [],
   "source": [
    "from pythonCode import VARprocesser as VARproc\n",
    "from pythonCode import SARIMAprocesser as SARIMAproc\n",
    "import pandas as pd"
   ]
  },
  {
   "cell_type": "code",
   "execution_count": 2,
   "metadata": {},
   "outputs": [],
   "source": [
    "resultVAR = VARproc.processVAR()"
   ]
  },
  {
   "cell_type": "code",
   "execution_count": 3,
   "metadata": {},
   "outputs": [
    {
     "name": "stderr",
     "output_type": "stream",
     "text": [
      "100%|██████████| 12/12 [17:46<00:00, 88.87s/it] \n"
     ]
    }
   ],
   "source": [
    "resultSARIMA = SARIMAproc.processSARIMA()"
   ]
  },
  {
   "cell_type": "code",
   "execution_count": 4,
   "metadata": {},
   "outputs": [],
   "source": [
    "# resultVAR.to_excel(\"predictByVAR.xlsx\")  \n",
    "# resultSARIMA.to_excel(\"predictBySARIMA.xlsx\")  \n",
    "resultPrediction = pd.concat([resultVAR, resultSARIMA], axis=1, ignore_index=False)\n",
    "resultPrediction.to_excel(\"predict.xlsx\")  "
   ]
  }
 ],
 "metadata": {
  "kernelspec": {
   "display_name": "base",
   "language": "python",
   "name": "python3"
  },
  "language_info": {
   "codemirror_mode": {
    "name": "ipython",
    "version": 3
   },
   "file_extension": ".py",
   "mimetype": "text/x-python",
   "name": "python",
   "nbconvert_exporter": "python",
   "pygments_lexer": "ipython3",
   "version": "3.9.13"
  },
  "orig_nbformat": 4
 },
 "nbformat": 4,
 "nbformat_minor": 2
}
